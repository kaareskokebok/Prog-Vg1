{
    "cells": [
      {
        "cell_type": "markdown",
        "metadata": {},
        "source": [
          "# ComfyUI Setup on Kaggle\n",
          "\n",
          "This notebook guides you through setting up **ComfyUI** on Kaggle using **MySQL Workbench**. Some system-level installations are adjusted due to Kaggle's environment restrictions."
        ]
      },
      {
        "cell_type": "markdown",
        "metadata": {},
        "source": [
          "## 1. Clone the ComfyUI Repository"
        ]
      },
      {
        "cell_type": "code",
        "execution_count": null,
        "metadata": {},
        "outputs": [],
        "source": [
          "!git clone https://github.com/comfyanonymous/ComfyUI"
        ]
      },
      {
        "cell_type": "markdown",
        "metadata": {},
        "source": [
          "## 2. Navigate to the ComfyUI Directory"
        ]
      },
      {
        "cell_type": "code",
        "execution_count": null,
        "metadata": {},
        "outputs": [],
        "source": [
          "# Change directory to ComfyUI\n",
          "import os\n",
          "os.chdir('ComfyUI')\n",
          "print(f'Current Directory: {os.getcwd()}')"
        ]
      },
      {
        "cell_type": "markdown",
        "metadata": {},
        "source": [
          "## 3. Set Up the Environment\n",
          "\n",
          "**Note:** Kaggle provides an isolated environment. Creating a new virtual environment is optional but shown here for completeness."
        ]
      },
      {
        "cell_type": "code",
        "execution_count": null,
        "metadata": {},
        "outputs": [],
        "source": [
          "# Create a virtual environment (optional)\n",
          "!python3 -m venv venv\n",
          "\n",
          "# Activate the virtual environment\n",
          "# Note: Activation within Jupyter Notebook isn't straightforward.\n",
          "# Instead, we'll use the virtual environment's pip directly."
        ]
      },
      {
        "cell_type": "markdown",
        "metadata": {},
        "source": [
          "## 4. Install Required Python Packages"
        ]
      },
      {
        "cell_type": "code",
        "execution_count": null,
        "metadata": {},
        "outputs": [],
        "source": [
          "# Upgrade pip\n",
          "!pip install --upgrade pip\n",
          "\n",
          "# Install required packages from requirements.txt\n",
          "!pip install -r requirements.txt"
        ]
      },
      {
        "cell_type": "markdown",
        "metadata": {},
        "source": [
          "## 5. Manage Torch Packages\n",
          "\n",
          "Uninstall existing `torch`, `torchvision`, and `torchaudio` packages, then install specific versions compatible with CUDA 12.4."
        ]
      },
      {
        "cell_type": "code",
        "execution_count": null,
        "metadata": {},
        "outputs": [],
        "source": [
          "# Uninstall existing torch packages\n",
          "!pip uninstall torch torchvision torchaudio --yes\n",
          "\n",
          "# Install specific versions of torch packages\n",
          "!pip install torch==2.5.0 torchvision torchaudio --index-url https://download.pytorch.org/whl/cu124 --upgrade"
        ]
      },
      {
        "cell_type": "markdown",
        "metadata": {},
        "source": [
          "## 6. Install Additional Python Packages\n",
          "\n",
          "Installing `xformers`, `insightface`, `onnxruntime-gpu`, and `triton` with specific versions."
        ]
      },
      {
        "cell_type": "code",
        "execution_count": null,
        "metadata": {},
        "outputs": [],
        "source": [
          "# Install xformers\n",
          "!pip install xformers==0.0.28.post2 --index-url https://download.pytorch.org/whl/cu124 --upgrade\n",
          "\n",
          "# Install insightface\n",
          "!pip install insightface\n",
          "\n",
          "# Install ONNX Runtime GPU\n",
          "!pip install onnxruntime-gpu\n",
          "\n",
          "# Install Triton\n",
          "!pip install triton"
        ]
      },
      {
        "cell_type": "markdown",
        "metadata": {},
        "source": [
          "## 7. Clone ComfyUI-Manager Repository\n",
          "\n",
          "Navigating to `custom_nodes` directory and cloning the `ComfyUI-Manager` repository."
        ]
      },
      {
        "cell_type": "code",
        "execution_count": null,
        "metadata": {},
        "outputs": [],
        "source": [
          "# Navigate to custom_nodes directory\n",
          "os.chdir('custom_nodes')\n",
          "\n",
          "# Clone ComfyUI-Manager repository\n",
          "!git clone https://github.com/ltdrdata/ComfyUI-Manager\n",
          "\n",
          "# Navigate back to the ComfyUI root directory\n",
          "os.chdir('..')\n",
          "print(f'Current Directory: {os.getcwd()}')"
        ]
      },
      {
        "cell_type": "markdown",
        "metadata": {},
        "source": [
          "## 8. Install Additional Python Packages\n",
          "\n",
          "Installing the `requests` library."
        ]
      },
      {
        "cell_type": "code",
        "execution_count": null,
        "metadata": {},
        "outputs": [],
        "source": [
          "!pip install requests"
        ]
      },
      {
        "cell_type": "markdown",
        "metadata": {},
        "source": [
          "## 9. System Updates and Installations\n",
          "\n",
          "**Note:** Kaggle does not permit `sudo` commands or installing packages via `apt` or `snap`. Instead, alternative installation methods are provided where possible."
        ]
      },
      {
        "cell_type": "markdown",
        "metadata": {},
        "source": [
          "### 9.1. Install `psmisc` Equivalent Tools (Skipped)\n",
          "\n",
          "`psmisc` includes utilities like `killall`, which are typically not needed within Kaggle notebooks. This step is skipped."
        ]
      },
      {
        "cell_type": "markdown",
        "metadata": {},
        "source": [
          "### 9.2. Install `ngrok` Alternative\n",
          "\n",
          "`ngrok` is used to expose local servers to the internet. Since `snap` is unavailable, we'll install `ngrok` via direct download."
        ]
      },
      {
        "cell_type": "code",
        "execution_count": null,
        "metadata": {},
        "outputs": [],
        "source": [
          "# Download ngrok\n",
          "!wget https://bin.equinox.io/c/4VmDzA7iaHb/ngrok-stable-linux-amd64.zip -O ngrok.zip\n",
          "\n",
          "# Unzip ngrok\n",
          "!unzip ngrok.zip\n",
          "\n",
          "# Move ngrok to /usr/local/bin (Skipped due to permission)\n",
          "# Instead, we'll use it directly from the current directory\n",
          "# !mv ngrok /usr/local/bin/\n",
          "\n",
          "# Authenticate ngrok (Replace 'YOUR_AUTH_TOKEN' with your actual token)\n",
          "# Note: Replace the placeholder with your ngrok auth token.\n",
          "# !./ngrok authtoken YOUR_AUTH_TOKEN"
        ]
      },
      {
        "cell_type": "markdown",
        "metadata": {},
        "source": [
          "**Note:** To authenticate `ngrok`, you need an auth token from your [ngrok dashboard](https://dashboard.ngrok.com/). Replace `'YOUR_AUTH_TOKEN'` with your actual token and uncomment the authentication line above."
        ]
      },
      {
        "cell_type": "markdown",
        "metadata": {},
        "source": [
          "## 10. Download Models\n",
          "\n",
          "Running the `Download_Models.py` script to download necessary models."
        ]
      },
      {
        "cell_type": "code",
        "execution_count": null,
        "metadata": {},
        "outputs": [],
        "source": [
          "# Ensure Download_Models.py exists\n",
          "!ls Download_Models.py\n",
          "\n",
          "# Run the Download_Models.py script\n",
          "!python3 Download_Models.py"
        ]
      },
      {
        "cell_type": "markdown",
        "metadata": {},
        "source": [
          "## 11. Final Steps\n",
          "\n",
          "At this point, ComfyUI should be set up. You can attempt to run it within the Kaggle environment. However, please note that running long-lived services or servers may not be fully supported on Kaggle."
        ]
      },
      {
        "cell_type": "markdown",
        "metadata": {},
        "source": [
          "### 11.1. Run ComfyUI\n",
          "\n",
          "Attempting to start ComfyUI. Replace this with the appropriate command based on ComfyUI's documentation."
        ]
      },
      {
        "cell_type": "code",
        "execution_count": null,
        "metadata": {},
        "outputs": [],
        "source": [
          "# Run ComfyUI (Replace with actual run command)\n",
          "!python3 main.py"
        ]
      },
      {
        "cell_type": "markdown",
        "metadata": {},
        "source": [
          "**Note:** Depending on how ComfyUI is designed to run, additional configuration may be required. Also, external access via `ngrok` may not function as expected on Kaggle due to network restrictions."
        ]
      },
      {
        "cell_type": "markdown",
        "metadata": {},
        "source": [
          "## 12. Troubleshooting\n",
          "\n",
          "If you encounter issues during the setup, consider the following:\n",
          "\n",
          "- **Check Package Versions:** Ensure that all packages are compatible with each other.\n",
          "- **Review Error Messages:** Look at the output of each cell to identify specific issues.\n",
          "- **Consult Documentation:** Refer to [ComfyUI's GitHub](https://github.com/comfyanonymous/ComfyUI) and other relevant documentation for guidance.\n",
          "- **Kaggle Limitations:** Be aware of Kaggle's environment restrictions, which may prevent certain operations."
        ]
      }
    ],
    "metadata": {
      "kernelspec": {
        "display_name": "Python 3",
        "language": "python",
        "name": "python3"
      },
      "language_info": {
        "name": "python",
        "version": "3.8.16",
        "mimetype": "text/x-python",
        "codemirror_mode": {
          "name": "ipython",
          "version": 3
        },
        "pygments_lexer": "ipython3",
        "nbconvert_exporter": "python",
        "file_extension": ".py"
      }
    },
    "nbformat": 4,
    "nbformat_minor": 5
  }
  