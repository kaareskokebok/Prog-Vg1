{
 "cells": [
  {
   "cell_type": "markdown",
   "id": "0abc7dd7",
   "metadata": {},
   "source": [
    "### Master Notebook for Hugging Face repos Upload and Download V11\n",
    "\n",
    "### Execute below cell once to install libraries\n",
    "\n",
    "### Don't forget to set accurate folder and file paths and repo names before executing cells"
   ]
  },
  {
   "cell_type": "code",
   "execution_count": null,
   "id": "caa74bef",
   "metadata": {},
   "outputs": [],
   "source": [
    "!pip install huggingface_hub --upgrade\n",
    "\n",
    "!pip install ipywidgets --upgrade\n",
    "\n",
    "!pip install git+https://github.com/huggingface/huggingface_hub --upgrade\n",
    "\n",
    "!pip install hf_transfer --upgrade\n",
    "\n",
    "!pip install --upgrade jupyterlab-widgets\n",
    "!pip install --upgrade ipywidgets\n",
    "!jupyter nbextension enable --py widgetsnbextension"
   ]
  },
  {
   "cell_type": "markdown",
   "id": "502249bf",
   "metadata": {},
   "source": [
    "### Use below cell to paste your Hugging Face token key. \n",
    "\n",
    "### Access Tokens are here : https://huggingface.co/settings/tokens"
   ]
  },
  {
   "cell_type": "code",
   "execution_count": null,
   "id": "0d8027c8",
   "metadata": {},
   "outputs": [],
   "source": [
    "import os\n",
    "import subprocess\n",
    "import platform\n",
    "\n",
    "hugging_face_token = 'REPLACE_WITH_YOUR_TOKEN'\n",
    "\n",
    "# Set the environment variable\n",
    "os.environ['HUGGING_FACE_HUB_TOKEN'] = hugging_face_token\n",
    "os.environ['HF_HUB_ENABLE_HF_TRANSFER'] = \"1\"\n",
    "os.environ['HF_HUB_VERBOSITY'] = \"debug\"\n",
    "\n",
    "\n",
    "# Determine the operating system\n",
    "system = platform.system()\n",
    "\n",
    "if system == \"Linux\":\n",
    "    export_command = f'export HUGGING_FACE_HUB_TOKEN={hugging_face_token}'\n",
    "    subprocess.run(export_command, shell=True, check=True)\n",
    "    export_command = f'export HF_HUB_ENABLE_HF_TRANSFER=1'\n",
    "    subprocess.run(export_command, shell=True, check=True)   \n",
    "    export_command = f'export HF_HUB_VERBOSITY=\"debug\"'\n",
    "    subprocess.run(export_command, shell=True, check=True)      \n",
    "elif system == \"Windows\":\n",
    "    set_command = f'set HUGGING_FACE_HUB_TOKEN={hugging_face_token}'\n",
    "    subprocess.run(set_command, shell=True, check=True)\n",
    "    export_command = f'set HF_HUB_ENABLE_HF_TRANSFER=1'\n",
    "    subprocess.run(export_command, shell=True, check=True)   \n",
    "    export_command = f'set HF_HUB_VERBOSITY=\"debug\"'\n",
    "    subprocess.run(export_command, shell=True, check=True) \n",
    "\n",
    "# Command to log in using the token\n",
    "login_command = ['huggingface-cli', 'login', '--token', hugging_face_token]\n",
    "\n",
    "# Execute the login command and capture output\n",
    "try:\n",
    "    result = subprocess.run(login_command, check=True, capture_output=True, text=True)\n",
    "    print(\"Output:\", result.stdout)\n",
    "    print(\"Error:\", result.stderr)\n",
    "except subprocess.CalledProcessError as e:\n",
    "    print(\"Command failed with exit code:\", e.returncode)\n",
    "    print(\"Output:\", e.output)\n",
    "    print(\"Error:\", e.stderr)"
   ]
  },
  {
   "cell_type": "markdown",
   "id": "2dd50994-5595-46a6-b315-595ede0cf922",
   "metadata": {},
   "source": [
    "### Upload a folder fast but not suggested for too big and many files - Wait till UPLOAD COMPLETED printed"
   ]
  },
  {
   "cell_type": "code",
   "execution_count": null,
   "id": "a89ece44-8f27-43bb-a7fc-e966409d6f5a",
   "metadata": {},
   "outputs": [],
   "source": [
    "# This cell is used to upload a folder into a repo with single commit\n",
    "# TODO: change folder path AND repo_id with your own! \n",
    "from huggingface_hub import HfApi\n",
    "api = HfApi()\n",
    "api.upload_folder(\n",
    "    folder_path=r\"/kaggle/temp/models/model\",\n",
    "    repo_id=\"jenssdfw/tomcruise1\",\n",
    "    repo_type=\"model\",\n",
    ")\n",
    "\n",
    "print(\".\\n.\\nUPLOAD COMPLETED\")"
   ]
  },
  {
   "cell_type": "markdown",
   "id": "4d26f8d6-31cd-42a5-9477-ba1e77cd271c",
   "metadata": {},
   "source": [
    "### To upload all files in given folder to the target Hugging Face repository use below - Wait till UPLOAD COMPLETED printed\n",
    "## Use this cell if the previous isn't working"
   ]
  },
  {
   "cell_type": "code",
   "execution_count": null,
   "id": "6fc96104",
   "metadata": {},
   "outputs": [],
   "source": [
    "# This cell uploads a folder into remote repo with multi commit\n",
    "# Supports continue feature so if gets interrupted you can run again to continue / resume\n",
    "\n",
    "from huggingface_hub import HfApi\n",
    "from huggingface_hub import get_collection, delete_collection_item\n",
    "from huggingface_hub import upload_file\n",
    "from huggingface_hub import (\n",
    "    HfFolder,\n",
    "    ModelCard,\n",
    "    ModelCardData,\n",
    "    create_repo,\n",
    "    hf_hub_download,\n",
    "    upload_folder,\n",
    "    whoami,\n",
    ")\n",
    "api = HfApi()\n",
    "upload_folder(\n",
    "    folder_path=r\"/kaggle/temp/models/model\",\n",
    "    repo_id=\"jenssdfw/tomcruise1\",\n",
    "    repo_type=\"model\",\n",
    ")\n",
    "\n",
    "print(\".\\n.\\nUPLOAD COMPLETED\")"
   ]
  },
  {
   "cell_type": "markdown",
   "id": "0e71bcd1",
   "metadata": {},
   "source": [
    "## DOWNLOAD ALL FILES from huggingface repo"
   ]
  },
  {
   "cell_type": "code",
   "execution_count": null,
   "id": "182ce833",
   "metadata": {},
   "outputs": [],
   "source": [
    "# You can run this cell multiple times if any error occurs it will resume\n",
    "\n",
    "from huggingface_hub import snapshot_download\n",
    "import os\n",
    "\n",
    "# Ensure the local directory exists\n",
    "\n",
    "\n",
    "repo_id=\"jenssdfw/tomcruise1\"\n",
    "local_dir = \"/kaggle/temp/models\"\n",
    "\n",
    "os.makedirs(local_dir, exist_ok=True)\n",
    "\n",
    "snapshot_download(repo_id=repo_id,local_dir=local_dir)\n",
    "\n",
    "print(\".\\n.\\nDOWNLOAD COMPLETED\")"
   ]
  }
 ],
 "metadata": {
  "kernelspec": {
   "display_name": "Python 3 (ipykernel)",
   "language": "python",
   "name": "python3"
  },
  "language_info": {
   "codemirror_mode": {
    "name": "ipython",
    "version": 3
   },
   "file_extension": ".py",
   "mimetype": "text/x-python",
   "name": "python",
   "nbconvert_exporter": "python",
   "pygments_lexer": "ipython3",
   "version": "3.10.12"
  }
 },
 "nbformat": 4,
 "nbformat_minor": 5
}
